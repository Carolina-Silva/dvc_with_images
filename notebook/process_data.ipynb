{
 "cells": [
  {
   "cell_type": "code",
   "execution_count": 16,
   "metadata": {},
   "outputs": [],
   "source": [
    "import tifffile\n",
    "import matplotlib.pyplot as plt\n",
    "import os\n",
    "import numpy as np\n",
    "\n",
    "from skimage.io import imread, imsave"
   ]
  },
  {
   "cell_type": "code",
   "execution_count": 17,
   "metadata": {},
   "outputs": [],
   "source": [
    "image_path ='/home/carolina/lgcm/dev/dvc-in-action/images/data/raw/volume_lines.tif'\n",
    "\n",
    "save_dir='/home/carolina/lgcm/dev/dvc-in-action/images/data/input'"
   ]
  },
  {
   "cell_type": "code",
   "execution_count": 18,
   "metadata": {},
   "outputs": [],
   "source": [
    "def load_tifffile(path):\n",
    "    try:\n",
    "        imagem = tifffile.imread(path)\n",
    "        return imagem\n",
    "    except Exception as e:\n",
    "        print(f\"Erro ao carregar a imagem: {e}\")\n",
    "        return None\n"
   ]
  },
  {
   "cell_type": "code",
   "execution_count": 19,
   "metadata": {},
   "outputs": [
    {
     "data": {
      "text/plain": [
       "100"
      ]
     },
     "execution_count": 19,
     "metadata": {},
     "output_type": "execute_result"
    }
   ],
   "source": [
    "image = load_tifffile(image_path)\n",
    "\n",
    "image.shape[0]"
   ]
  },
  {
   "cell_type": "code",
   "execution_count": 20,
   "metadata": {},
   "outputs": [
    {
     "data": {
      "image/png": "[encoded data removed]",
      "text/plain": [
       "<Figure size 500x500 with 1 Axes>"
      ]
     },
     "metadata": {},
     "output_type": "display_data"
    }
   ],
   "source": [
    "# Fatia 50\n",
    "\n",
    "plt.figure(figsize=(5, 5))\n",
    "plt.imshow(image[50], cmap='gray')\n",
    "plt.axis('off')\n",
    "plt.show()\n"
   ]
  },
  {
   "cell_type": "code",
   "execution_count": 21,
   "metadata": {},
   "outputs": [],
   "source": [
    "def save_slice(basename, z_num, slice_data):\n",
    "    \"\"\"Salva uma fatia como TIFF contendo todos os canais.\"\"\"\n",
    "    new_filename = os.path.join(save_dir, f\"{basename}_z{z_num}.tif\")\n",
    "\n",
    "    imsave(new_filename, slice_data, photometric='minisblack')"
   ]
  },
  {
   "cell_type": "code",
   "execution_count": 22,
   "metadata": {},
   "outputs": [],
   "source": [
    "def cut_slice(fname, img):\n",
    "    \"\"\"Salva todas as fatias Z contendo os três canais juntos.\"\"\"\n",
    "    basename = fname.replace(\".tif\", \"\")\n",
    "    num_slices = img.shape[0]\n",
    "\n",
    "    for z_num in range(num_slices):\n",
    "        slice_data = img[:, z_num] \n",
    "        save_slice(basename, z_num, slice_data)"
   ]
  },
  {
   "cell_type": "code",
   "execution_count": 23,
   "metadata": {},
   "outputs": [
    {
     "name": "stderr",
     "output_type": "stream",
     "text": [
      "/tmp/ipykernel_118290/3238456030.py:5: UserWarning: /home/carolina/lgcm/dev/dvc-in-action/images/data/raw/volume_lines_z0.tif is a low contrast image\n",
      "  imsave(new_filename, slice_data, photometric='minisblack')\n",
      "/tmp/ipykernel_118290/3238456030.py:5: UserWarning: /home/carolina/lgcm/dev/dvc-in-action/images/data/raw/volume_lines_z1.tif is a low contrast image\n",
      "  imsave(new_filename, slice_data, photometric='minisblack')\n",
      "/tmp/ipykernel_118290/3238456030.py:5: UserWarning: /home/carolina/lgcm/dev/dvc-in-action/images/data/raw/volume_lines_z2.tif is a low contrast image\n",
      "  imsave(new_filename, slice_data, photometric='minisblack')\n",
      "/tmp/ipykernel_118290/3238456030.py:5: UserWarning: /home/carolina/lgcm/dev/dvc-in-action/images/data/raw/volume_lines_z3.tif is a low contrast image\n",
      "  imsave(new_filename, slice_data, photometric='minisblack')\n",
      "/tmp/ipykernel_118290/3238456030.py:5: UserWarning: /home/carolina/lgcm/dev/dvc-in-action/images/data/raw/volume_lines_z4.tif is a low contrast image\n",
      "  imsave(new_filename, slice_data, photometric='minisblack')\n",
      "/tmp/ipykernel_118290/3238456030.py:5: UserWarning: /home/carolina/lgcm/dev/dvc-in-action/images/data/raw/volume_lines_z5.tif is a low contrast image\n",
      "  imsave(new_filename, slice_data, photometric='minisblack')\n",
      "/tmp/ipykernel_118290/3238456030.py:5: UserWarning: /home/carolina/lgcm/dev/dvc-in-action/images/data/raw/volume_lines_z6.tif is a low contrast image\n",
      "  imsave(new_filename, slice_data, photometric='minisblack')\n",
      "/tmp/ipykernel_118290/3238456030.py:5: UserWarning: /home/carolina/lgcm/dev/dvc-in-action/images/data/raw/volume_lines_z7.tif is a low contrast image\n",
      "  imsave(new_filename, slice_data, photometric='minisblack')\n",
      "/tmp/ipykernel_118290/3238456030.py:5: UserWarning: /home/carolina/lgcm/dev/dvc-in-action/images/data/raw/volume_lines_z8.tif is a low contrast image\n",
      "  imsave(new_filename, slice_data, photometric='minisblack')\n",
      "/tmp/ipykernel_118290/3238456030.py:5: UserWarning: /home/carolina/lgcm/dev/dvc-in-action/images/data/raw/volume_lines_z9.tif is a low contrast image\n",
      "  imsave(new_filename, slice_data, photometric='minisblack')\n",
      "/tmp/ipykernel_118290/3238456030.py:5: UserWarning: /home/carolina/lgcm/dev/dvc-in-action/images/data/raw/volume_lines_z10.tif is a low contrast image\n",
      "  imsave(new_filename, slice_data, photometric='minisblack')\n",
      "/tmp/ipykernel_118290/3238456030.py:5: UserWarning: /home/carolina/lgcm/dev/dvc-in-action/images/data/raw/volume_lines_z11.tif is a low contrast image\n",
      "  imsave(new_filename, slice_data, photometric='minisblack')\n",
      "/tmp/ipykernel_118290/3238456030.py:5: UserWarning: /home/carolina/lgcm/dev/dvc-in-action/images/data/raw/volume_lines_z12.tif is a low contrast image\n",
      "  imsave(new_filename, slice_data, photometric='minisblack')\n",
      "/tmp/ipykernel_118290/3238456030.py:5: UserWarning: /home/carolina/lgcm/dev/dvc-in-action/images/data/raw/volume_lines_z13.tif is a low contrast image\n",
      "  imsave(new_filename, slice_data, photometric='minisblack')\n",
      "/tmp/ipykernel_118290/3238456030.py:5: UserWarning: /home/carolina/lgcm/dev/dvc-in-action/images/data/raw/volume_lines_z14.tif is a low contrast image\n",
      "  imsave(new_filename, slice_data, photometric='minisblack')\n",
      "/tmp/ipykernel_118290/3238456030.py:5: UserWarning: /home/carolina/lgcm/dev/dvc-in-action/images/data/raw/volume_lines_z15.tif is a low contrast image\n",
      "  imsave(new_filename, slice_data, photometric='minisblack')\n",
      "/tmp/ipykernel_118290/3238456030.py:5: UserWarning: /home/carolina/lgcm/dev/dvc-in-action/images/data/raw/volume_lines_z16.tif is a low contrast image\n",
      "  imsave(new_filename, slice_data, photometric='minisblack')\n",
      "/tmp/ipykernel_118290/3238456030.py:5: UserWarning: /home/carolina/lgcm/dev/dvc-in-action/images/data/raw/volume_lines_z17.tif is a low contrast image\n",
      "  imsave(new_filename, slice_data, photometric='minisblack')\n",
      "/tmp/ipykernel_118290/3238456030.py:5: UserWarning: /home/carolina/lgcm/dev/dvc-in-action/images/data/raw/volume_lines_z18.tif is a low contrast image\n",
      "  imsave(new_filename, slice_data, photometric='minisblack')\n",
      "/tmp/ipykernel_118290/3238456030.py:5: UserWarning: /home/carolina/lgcm/dev/dvc-in-action/images/data/raw/volume_lines_z19.tif is a low contrast image\n",
      "  imsave(new_filename, slice_data, photometric='minisblack')\n",
      "/tmp/ipykernel_118290/3238456030.py:5: UserWarning: /home/carolina/lgcm/dev/dvc-in-action/images/data/raw/volume_lines_z20.tif is a low contrast image\n",
      "  imsave(new_filename, slice_data, photometric='minisblack')\n",
      "/tmp/ipykernel_118290/3238456030.py:5: UserWarning: /home/carolina/lgcm/dev/dvc-in-action/images/data/raw/volume_lines_z21.tif is a low contrast image\n",
      "  imsave(new_filename, slice_data, photometric='minisblack')\n",
      "/tmp/ipykernel_118290/3238456030.py:5: UserWarning: /home/carolina/lgcm/dev/dvc-in-action/images/data/raw/volume_lines_z22.tif is a low contrast image\n",
      "  imsave(new_filename, slice_data, photometric='minisblack')\n",
      "/tmp/ipykernel_118290/3238456030.py:5: UserWarning: /home/carolina/lgcm/dev/dvc-in-action/images/data/raw/volume_lines_z23.tif is a low contrast image\n",
      "  imsave(new_filename, slice_data, photometric='minisblack')\n",
      "/tmp/ipykernel_118290/3238456030.py:5: UserWarning: /home/carolina/lgcm/dev/dvc-in-action/images/data/raw/volume_lines_z24.tif is a low contrast image\n",
      "  imsave(new_filename, slice_data, photometric='minisblack')\n",
      "/tmp/ipykernel_118290/3238456030.py:5: UserWarning: /home/carolina/lgcm/dev/dvc-in-action/images/data/raw/volume_lines_z25.tif is a low contrast image\n",
      "  imsave(new_filename, slice_data, photometric='minisblack')\n",
      "/tmp/ipykernel_118290/3238456030.py:5: UserWarning: /home/carolina/lgcm/dev/dvc-in-action/images/data/raw/volume_lines_z26.tif is a low contrast image\n",
      "  imsave(new_filename, slice_data, photometric='minisblack')\n",
      "/tmp/ipykernel_118290/3238456030.py:5: UserWarning: /home/carolina/lgcm/dev/dvc-in-action/images/data/raw/volume_lines_z27.tif is a low contrast image\n",
      "  imsave(new_filename, slice_data, photometric='minisblack')\n",
      "/tmp/ipykernel_118290/3238456030.py:5: UserWarning: /home/carolina/lgcm/dev/dvc-in-action/images/data/raw/volume_lines_z28.tif is a low contrast image\n",
      "  imsave(new_filename, slice_data, photometric='minisblack')\n",
      "/tmp/ipykernel_118290/3238456030.py:5: UserWarning: /home/carolina/lgcm/dev/dvc-in-action/images/data/raw/volume_lines_z29.tif is a low contrast image\n",
      "  imsave(new_filename, slice_data, photometric='minisblack')\n",
      "/tmp/ipykernel_118290/3238456030.py:5: UserWarning: /home/carolina/lgcm/dev/dvc-in-action/images/data/raw/volume_lines_z30.tif is a low contrast image\n",
      "  imsave(new_filename, slice_data, photometric='minisblack')\n",
      "/tmp/ipykernel_118290/3238456030.py:5: UserWarning: /home/carolina/lgcm/dev/dvc-in-action/images/data/raw/volume_lines_z31.tif is a low contrast image\n",
      "  imsave(new_filename, slice_data, photometric='minisblack')\n",
      "/tmp/ipykernel_118290/3238456030.py:5: UserWarning: /home/carolina/lgcm/dev/dvc-in-action/images/data/raw/volume_lines_z32.tif is a low contrast image\n",
      "  imsave(new_filename, slice_data, photometric='minisblack')\n",
      "/tmp/ipykernel_118290/3238456030.py:5: UserWarning: /home/carolina/lgcm/dev/dvc-in-action/images/data/raw/volume_lines_z33.tif is a low contrast image\n",
      "  imsave(new_filename, slice_data, photometric='minisblack')\n",
      "/tmp/ipykernel_118290/3238456030.py:5: UserWarning: /home/carolina/lgcm/dev/dvc-in-action/images/data/raw/volume_lines_z34.tif is a low contrast image\n",
      "  imsave(new_filename, slice_data, photometric='minisblack')\n",
      "/tmp/ipykernel_118290/3238456030.py:5: UserWarning: /home/carolina/lgcm/dev/dvc-in-action/images/data/raw/volume_lines_z35.tif is a low contrast image\n",
      "  imsave(new_filename, slice_data, photometric='minisblack')\n",
      "/tmp/ipykernel_118290/3238456030.py:5: UserWarning: /home/carolina/lgcm/dev/dvc-in-action/images/data/raw/volume_lines_z36.tif is a low contrast image\n",
      "  imsave(new_filename, slice_data, photometric='minisblack')\n",
      "/tmp/ipykernel_118290/3238456030.py:5: UserWarning: /home/carolina/lgcm/dev/dvc-in-action/images/data/raw/volume_lines_z37.tif is a low contrast image\n",
      "  imsave(new_filename, slice_data, photometric='minisblack')\n",
      "/tmp/ipykernel_118290/3238456030.py:5: UserWarning: /home/carolina/lgcm/dev/dvc-in-action/images/data/raw/volume_lines_z38.tif is a low contrast image\n",
      "  imsave(new_filename, slice_data, photometric='minisblack')\n",
      "/tmp/ipykernel_118290/3238456030.py:5: UserWarning: /home/carolina/lgcm/dev/dvc-in-action/images/data/raw/volume_lines_z39.tif is a low contrast image\n",
      "  imsave(new_filename, slice_data, photometric='minisblack')\n",
      "/tmp/ipykernel_118290/3238456030.py:5: UserWarning: /home/carolina/lgcm/dev/dvc-in-action/images/data/raw/volume_lines_z40.tif is a low contrast image\n",
      "  imsave(new_filename, slice_data, photometric='minisblack')\n",
      "/tmp/ipykernel_118290/3238456030.py:5: UserWarning: /home/carolina/lgcm/dev/dvc-in-action/images/data/raw/volume_lines_z41.tif is a low contrast image\n",
      "  imsave(new_filename, slice_data, photometric='minisblack')\n",
      "/tmp/ipykernel_118290/3238456030.py:5: UserWarning: /home/carolina/lgcm/dev/dvc-in-action/images/data/raw/volume_lines_z42.tif is a low contrast image\n",
      "  imsave(new_filename, slice_data, photometric='minisblack')\n",
      "/tmp/ipykernel_118290/3238456030.py:5: UserWarning: /home/carolina/lgcm/dev/dvc-in-action/images/data/raw/volume_lines_z43.tif is a low contrast image\n",
      "  imsave(new_filename, slice_data, photometric='minisblack')\n",
      "/tmp/ipykernel_118290/3238456030.py:5: UserWarning: /home/carolina/lgcm/dev/dvc-in-action/images/data/raw/volume_lines_z44.tif is a low contrast image\n",
      "  imsave(new_filename, slice_data, photometric='minisblack')\n",
      "/tmp/ipykernel_118290/3238456030.py:5: UserWarning: /home/carolina/lgcm/dev/dvc-in-action/images/data/raw/volume_lines_z45.tif is a low contrast image\n",
      "  imsave(new_filename, slice_data, photometric='minisblack')\n",
      "/tmp/ipykernel_118290/3238456030.py:5: UserWarning: /home/carolina/lgcm/dev/dvc-in-action/images/data/raw/volume_lines_z46.tif is a low contrast image\n",
      "  imsave(new_filename, slice_data, photometric='minisblack')\n",
      "/tmp/ipykernel_118290/3238456030.py:5: UserWarning: /home/carolina/lgcm/dev/dvc-in-action/images/data/raw/volume_lines_z47.tif is a low contrast image\n",
      "  imsave(new_filename, slice_data, photometric='minisblack')\n",
      "/tmp/ipykernel_118290/3238456030.py:5: UserWarning: /home/carolina/lgcm/dev/dvc-in-action/images/data/raw/volume_lines_z48.tif is a low contrast image\n",
      "  imsave(new_filename, slice_data, photometric='minisblack')\n",
      "/tmp/ipykernel_118290/3238456030.py:5: UserWarning: /home/carolina/lgcm/dev/dvc-in-action/images/data/raw/volume_lines_z49.tif is a low contrast image\n",
      "  imsave(new_filename, slice_data, photometric='minisblack')\n",
      "/tmp/ipykernel_118290/3238456030.py:5: UserWarning: /home/carolina/lgcm/dev/dvc-in-action/images/data/raw/volume_lines_z50.tif is a low contrast image\n",
      "  imsave(new_filename, slice_data, photometric='minisblack')\n",
      "/tmp/ipykernel_118290/3238456030.py:5: UserWarning: /home/carolina/lgcm/dev/dvc-in-action/images/data/raw/volume_lines_z51.tif is a low contrast image\n",
      "  imsave(new_filename, slice_data, photometric='minisblack')\n",
      "/tmp/ipykernel_118290/3238456030.py:5: UserWarning: /home/carolina/lgcm/dev/dvc-in-action/images/data/raw/volume_lines_z52.tif is a low contrast image\n",
      "  imsave(new_filename, slice_data, photometric='minisblack')\n",
      "/tmp/ipykernel_118290/3238456030.py:5: UserWarning: /home/carolina/lgcm/dev/dvc-in-action/images/data/raw/volume_lines_z53.tif is a low contrast image\n",
      "  imsave(new_filename, slice_data, photometric='minisblack')\n",
      "/tmp/ipykernel_118290/3238456030.py:5: UserWarning: /home/carolina/lgcm/dev/dvc-in-action/images/data/raw/volume_lines_z54.tif is a low contrast image\n",
      "  imsave(new_filename, slice_data, photometric='minisblack')\n",
      "/tmp/ipykernel_118290/3238456030.py:5: UserWarning: /home/carolina/lgcm/dev/dvc-in-action/images/data/raw/volume_lines_z55.tif is a low contrast image\n",
      "  imsave(new_filename, slice_data, photometric='minisblack')\n",
      "/tmp/ipykernel_118290/3238456030.py:5: UserWarning: /home/carolina/lgcm/dev/dvc-in-action/images/data/raw/volume_lines_z56.tif is a low contrast image\n",
      "  imsave(new_filename, slice_data, photometric='minisblack')\n",
      "/tmp/ipykernel_118290/3238456030.py:5: UserWarning: /home/carolina/lgcm/dev/dvc-in-action/images/data/raw/volume_lines_z57.tif is a low contrast image\n",
      "  imsave(new_filename, slice_data, photometric='minisblack')\n",
      "/tmp/ipykernel_118290/3238456030.py:5: UserWarning: /home/carolina/lgcm/dev/dvc-in-action/images/data/raw/volume_lines_z58.tif is a low contrast image\n",
      "  imsave(new_filename, slice_data, photometric='minisblack')\n",
      "/tmp/ipykernel_118290/3238456030.py:5: UserWarning: /home/carolina/lgcm/dev/dvc-in-action/images/data/raw/volume_lines_z59.tif is a low contrast image\n",
      "  imsave(new_filename, slice_data, photometric='minisblack')\n",
      "/tmp/ipykernel_118290/3238456030.py:5: UserWarning: /home/carolina/lgcm/dev/dvc-in-action/images/data/raw/volume_lines_z60.tif is a low contrast image\n",
      "  imsave(new_filename, slice_data, photometric='minisblack')\n",
      "/tmp/ipykernel_118290/3238456030.py:5: UserWarning: /home/carolina/lgcm/dev/dvc-in-action/images/data/raw/volume_lines_z61.tif is a low contrast image\n",
      "  imsave(new_filename, slice_data, photometric='minisblack')\n",
      "/tmp/ipykernel_118290/3238456030.py:5: UserWarning: /home/carolina/lgcm/dev/dvc-in-action/images/data/raw/volume_lines_z62.tif is a low contrast image\n",
      "  imsave(new_filename, slice_data, photometric='minisblack')\n",
      "/tmp/ipykernel_118290/3238456030.py:5: UserWarning: /home/carolina/lgcm/dev/dvc-in-action/images/data/raw/volume_lines_z63.tif is a low contrast image\n",
      "  imsave(new_filename, slice_data, photometric='minisblack')\n",
      "/tmp/ipykernel_118290/3238456030.py:5: UserWarning: /home/carolina/lgcm/dev/dvc-in-action/images/data/raw/volume_lines_z64.tif is a low contrast image\n",
      "  imsave(new_filename, slice_data, photometric='minisblack')\n",
      "/tmp/ipykernel_118290/3238456030.py:5: UserWarning: /home/carolina/lgcm/dev/dvc-in-action/images/data/raw/volume_lines_z65.tif is a low contrast image\n",
      "  imsave(new_filename, slice_data, photometric='minisblack')\n",
      "/tmp/ipykernel_118290/3238456030.py:5: UserWarning: /home/carolina/lgcm/dev/dvc-in-action/images/data/raw/volume_lines_z66.tif is a low contrast image\n",
      "  imsave(new_filename, slice_data, photometric='minisblack')\n",
      "/tmp/ipykernel_118290/3238456030.py:5: UserWarning: /home/carolina/lgcm/dev/dvc-in-action/images/data/raw/volume_lines_z67.tif is a low contrast image\n",
      "  imsave(new_filename, slice_data, photometric='minisblack')\n",
      "/tmp/ipykernel_118290/3238456030.py:5: UserWarning: /home/carolina/lgcm/dev/dvc-in-action/images/data/raw/volume_lines_z68.tif is a low contrast image\n",
      "  imsave(new_filename, slice_data, photometric='minisblack')\n",
      "/tmp/ipykernel_118290/3238456030.py:5: UserWarning: /home/carolina/lgcm/dev/dvc-in-action/images/data/raw/volume_lines_z69.tif is a low contrast image\n",
      "  imsave(new_filename, slice_data, photometric='minisblack')\n",
      "/tmp/ipykernel_118290/3238456030.py:5: UserWarning: /home/carolina/lgcm/dev/dvc-in-action/images/data/raw/volume_lines_z70.tif is a low contrast image\n",
      "  imsave(new_filename, slice_data, photometric='minisblack')\n",
      "/tmp/ipykernel_118290/3238456030.py:5: UserWarning: /home/carolina/lgcm/dev/dvc-in-action/images/data/raw/volume_lines_z71.tif is a low contrast image\n",
      "  imsave(new_filename, slice_data, photometric='minisblack')\n",
      "/tmp/ipykernel_118290/3238456030.py:5: UserWarning: /home/carolina/lgcm/dev/dvc-in-action/images/data/raw/volume_lines_z72.tif is a low contrast image\n",
      "  imsave(new_filename, slice_data, photometric='minisblack')\n",
      "/tmp/ipykernel_118290/3238456030.py:5: UserWarning: /home/carolina/lgcm/dev/dvc-in-action/images/data/raw/volume_lines_z73.tif is a low contrast image\n",
      "  imsave(new_filename, slice_data, photometric='minisblack')\n",
      "/tmp/ipykernel_118290/3238456030.py:5: UserWarning: /home/carolina/lgcm/dev/dvc-in-action/images/data/raw/volume_lines_z74.tif is a low contrast image\n",
      "  imsave(new_filename, slice_data, photometric='minisblack')\n",
      "/tmp/ipykernel_118290/3238456030.py:5: UserWarning: /home/carolina/lgcm/dev/dvc-in-action/images/data/raw/volume_lines_z75.tif is a low contrast image\n",
      "  imsave(new_filename, slice_data, photometric='minisblack')\n",
      "/tmp/ipykernel_118290/3238456030.py:5: UserWarning: /home/carolina/lgcm/dev/dvc-in-action/images/data/raw/volume_lines_z76.tif is a low contrast image\n",
      "  imsave(new_filename, slice_data, photometric='minisblack')\n",
      "/tmp/ipykernel_118290/3238456030.py:5: UserWarning: /home/carolina/lgcm/dev/dvc-in-action/images/data/raw/volume_lines_z77.tif is a low contrast image\n",
      "  imsave(new_filename, slice_data, photometric='minisblack')\n",
      "/tmp/ipykernel_118290/3238456030.py:5: UserWarning: /home/carolina/lgcm/dev/dvc-in-action/images/data/raw/volume_lines_z78.tif is a low contrast image\n",
      "  imsave(new_filename, slice_data, photometric='minisblack')\n",
      "/tmp/ipykernel_118290/3238456030.py:5: UserWarning: /home/carolina/lgcm/dev/dvc-in-action/images/data/raw/volume_lines_z79.tif is a low contrast image\n",
      "  imsave(new_filename, slice_data, photometric='minisblack')\n",
      "/tmp/ipykernel_118290/3238456030.py:5: UserWarning: /home/carolina/lgcm/dev/dvc-in-action/images/data/raw/volume_lines_z80.tif is a low contrast image\n",
      "  imsave(new_filename, slice_data, photometric='minisblack')\n",
      "/tmp/ipykernel_118290/3238456030.py:5: UserWarning: /home/carolina/lgcm/dev/dvc-in-action/images/data/raw/volume_lines_z81.tif is a low contrast image\n",
      "  imsave(new_filename, slice_data, photometric='minisblack')\n",
      "/tmp/ipykernel_118290/3238456030.py:5: UserWarning: /home/carolina/lgcm/dev/dvc-in-action/images/data/raw/volume_lines_z82.tif is a low contrast image\n",
      "  imsave(new_filename, slice_data, photometric='minisblack')\n",
      "/tmp/ipykernel_118290/3238456030.py:5: UserWarning: /home/carolina/lgcm/dev/dvc-in-action/images/data/raw/volume_lines_z83.tif is a low contrast image\n",
      "  imsave(new_filename, slice_data, photometric='minisblack')\n",
      "/tmp/ipykernel_118290/3238456030.py:5: UserWarning: /home/carolina/lgcm/dev/dvc-in-action/images/data/raw/volume_lines_z84.tif is a low contrast image\n",
      "  imsave(new_filename, slice_data, photometric='minisblack')\n",
      "/tmp/ipykernel_118290/3238456030.py:5: UserWarning: /home/carolina/lgcm/dev/dvc-in-action/images/data/raw/volume_lines_z85.tif is a low contrast image\n",
      "  imsave(new_filename, slice_data, photometric='minisblack')\n",
      "/tmp/ipykernel_118290/3238456030.py:5: UserWarning: /home/carolina/lgcm/dev/dvc-in-action/images/data/raw/volume_lines_z86.tif is a low contrast image\n",
      "  imsave(new_filename, slice_data, photometric='minisblack')\n",
      "/tmp/ipykernel_118290/3238456030.py:5: UserWarning: /home/carolina/lgcm/dev/dvc-in-action/images/data/raw/volume_lines_z87.tif is a low contrast image\n",
      "  imsave(new_filename, slice_data, photometric='minisblack')\n",
      "/tmp/ipykernel_118290/3238456030.py:5: UserWarning: /home/carolina/lgcm/dev/dvc-in-action/images/data/raw/volume_lines_z88.tif is a low contrast image\n",
      "  imsave(new_filename, slice_data, photometric='minisblack')\n",
      "/tmp/ipykernel_118290/3238456030.py:5: UserWarning: /home/carolina/lgcm/dev/dvc-in-action/images/data/raw/volume_lines_z89.tif is a low contrast image\n",
      "  imsave(new_filename, slice_data, photometric='minisblack')\n",
      "/tmp/ipykernel_118290/3238456030.py:5: UserWarning: /home/carolina/lgcm/dev/dvc-in-action/images/data/raw/volume_lines_z90.tif is a low contrast image\n",
      "  imsave(new_filename, slice_data, photometric='minisblack')\n",
      "/tmp/ipykernel_118290/3238456030.py:5: UserWarning: /home/carolina/lgcm/dev/dvc-in-action/images/data/raw/volume_lines_z91.tif is a low contrast image\n",
      "  imsave(new_filename, slice_data, photometric='minisblack')\n",
      "/tmp/ipykernel_118290/3238456030.py:5: UserWarning: /home/carolina/lgcm/dev/dvc-in-action/images/data/raw/volume_lines_z92.tif is a low contrast image\n",
      "  imsave(new_filename, slice_data, photometric='minisblack')\n",
      "/tmp/ipykernel_118290/3238456030.py:5: UserWarning: /home/carolina/lgcm/dev/dvc-in-action/images/data/raw/volume_lines_z93.tif is a low contrast image\n",
      "  imsave(new_filename, slice_data, photometric='minisblack')\n",
      "/tmp/ipykernel_118290/3238456030.py:5: UserWarning: /home/carolina/lgcm/dev/dvc-in-action/images/data/raw/volume_lines_z94.tif is a low contrast image\n",
      "  imsave(new_filename, slice_data, photometric='minisblack')\n",
      "/tmp/ipykernel_118290/3238456030.py:5: UserWarning: /home/carolina/lgcm/dev/dvc-in-action/images/data/raw/volume_lines_z95.tif is a low contrast image\n",
      "  imsave(new_filename, slice_data, photometric='minisblack')\n",
      "/tmp/ipykernel_118290/3238456030.py:5: UserWarning: /home/carolina/lgcm/dev/dvc-in-action/images/data/raw/volume_lines_z96.tif is a low contrast image\n",
      "  imsave(new_filename, slice_data, photometric='minisblack')\n",
      "/tmp/ipykernel_118290/3238456030.py:5: UserWarning: /home/carolina/lgcm/dev/dvc-in-action/images/data/raw/volume_lines_z97.tif is a low contrast image\n",
      "  imsave(new_filename, slice_data, photometric='minisblack')\n",
      "/tmp/ipykernel_118290/3238456030.py:5: UserWarning: /home/carolina/lgcm/dev/dvc-in-action/images/data/raw/volume_lines_z98.tif is a low contrast image\n",
      "  imsave(new_filename, slice_data, photometric='minisblack')\n",
      "/tmp/ipykernel_118290/3238456030.py:5: UserWarning: /home/carolina/lgcm/dev/dvc-in-action/images/data/raw/volume_lines_z99.tif is a low contrast image\n",
      "  imsave(new_filename, slice_data, photometric='minisblack')\n"
     ]
    }
   ],
   "source": [
    "cut_slice(image_path, image)"
   ]
  },
  {
   "cell_type": "code",
   "execution_count": 24,
   "metadata": {},
   "outputs": [],
   "source": [
    "import cv2\n",
    "kernel = np.ones((5,5), dtype = \"uint8\")"
   ]
  },
  {
   "cell_type": "code",
   "execution_count": 25,
   "metadata": {},
   "outputs": [],
   "source": [
    "def process_image(image):\n",
    "    \"\"\"Aplica remoção da adventícia na imagem.\"\"\"\n",
    "    image =  cv2.dilate(image,kernel,iterations = 1)\n",
    "\n",
    "    return image"
   ]
  },
  {
   "cell_type": "code",
   "execution_count": 26,
   "metadata": {},
   "outputs": [
    {
     "data": {
      "image/png": "[encoded data removed]",
      "text/plain": [
       "<Figure size 500x500 with 1 Axes>"
      ]
     },
     "metadata": {},
     "output_type": "display_data"
    }
   ],
   "source": [
    "a = '/home/carolina/lgcm/dev/dvc-in-action/images/data/input/volume_lines_z32.tif'\n",
    "\n",
    "plt.figure(figsize=(5, 5))\n",
    "image_a = imread(a)\n",
    "plt.imshow(image_a, cmap='gray')\n",
    "plt.axis('off')\n",
    "plt.show()"
   ]
  },
  {
   "cell_type": "code",
   "execution_count": 27,
   "metadata": {},
   "outputs": [
    {
     "data": {
      "image/png": "[encoded data removed]",
      "text/plain": [
       "<Figure size 500x500 with 1 Axes>"
      ]
     },
     "metadata": {},
     "output_type": "display_data"
    }
   ],
   "source": [
    "image_b = process_image(image_a)\n",
    "\n",
    "plt.figure(figsize=(5, 5))\n",
    "plt.imshow(image_b, cmap='gray')\n",
    "plt.axis('off')\n",
    "plt.show()"
   ]
  },
  {
   "cell_type": "code",
   "execution_count": 28,
   "metadata": {},
   "outputs": [],
   "source": [
    "def save_slice2(basename, z_num, slice_data):\n",
    "    \"\"\"Salva uma fatia como TIFF contendo todos os canais.\"\"\"\n",
    "    new_filename = os.path.join(save_dir, f\"{basename}_z{z_num}.tif\")\n",
    "\n",
    "    imsave(new_filename, slice_data, photometric='minisblack')"
   ]
  }
 ],
 "metadata": {
  "kernelspec": {
   "display_name": "shg-conda",
   "language": "python",
   "name": "python3"
  },
  "language_info": {
   "codemirror_mode": {
    "name": "ipython",
    "version": 3
   },
   "file_extension": ".py",
   "mimetype": "text/x-python",
   "name": "python",
   "nbconvert_exporter": "python",
   "pygments_lexer": "ipython3",
   "version": "3.11.5"
  }
 },
 "nbformat": 4,
 "nbformat_minor": 2
}
